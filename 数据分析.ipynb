{
 "cells": [
  {
   "cell_type": "code",
   "execution_count": 2,
   "metadata": {},
   "outputs": [],
   "source": [
    "import numpy as np\n",
    "import matplotlib.pyplot as plt\n",
    "import pandas as pd\n",
    "%matplotlib inline"
   ]
  },
  {
   "cell_type": "code",
   "execution_count": 4,
   "metadata": {},
   "outputs": [],
   "source": [
    "train_data=pd.read_csv('./data/sensor_train/sensor_train.csv')\n",
    "test_data=pd.read_csv('./data/sensor_test/sensor_test.csv')"
   ]
  },
  {
   "cell_type": "code",
   "execution_count": 6,
   "metadata": {},
   "outputs": [
    {
     "data": {
      "text/html": [
       "<div>\n",
       "<style scoped>\n",
       "    .dataframe tbody tr th:only-of-type {\n",
       "        vertical-align: middle;\n",
       "    }\n",
       "\n",
       "    .dataframe tbody tr th {\n",
       "        vertical-align: top;\n",
       "    }\n",
       "\n",
       "    .dataframe thead th {\n",
       "        text-align: right;\n",
       "    }\n",
       "</style>\n",
       "<table border=\"1\" class=\"dataframe\">\n",
       "  <thead>\n",
       "    <tr style=\"text-align: right;\">\n",
       "      <th></th>\n",
       "      <th>fragment_id</th>\n",
       "      <th>time_point</th>\n",
       "      <th>acc_x</th>\n",
       "      <th>acc_y</th>\n",
       "      <th>acc_z</th>\n",
       "      <th>acc_xg</th>\n",
       "      <th>acc_yg</th>\n",
       "      <th>acc_zg</th>\n",
       "      <th>behavior_id</th>\n",
       "    </tr>\n",
       "  </thead>\n",
       "  <tbody>\n",
       "    <tr>\n",
       "      <th>0</th>\n",
       "      <td>0</td>\n",
       "      <td>27</td>\n",
       "      <td>0.3</td>\n",
       "      <td>-0.3</td>\n",
       "      <td>0.1</td>\n",
       "      <td>0.6</td>\n",
       "      <td>4.5</td>\n",
       "      <td>8.8</td>\n",
       "      <td>0</td>\n",
       "    </tr>\n",
       "    <tr>\n",
       "      <th>1</th>\n",
       "      <td>0</td>\n",
       "      <td>108</td>\n",
       "      <td>0.1</td>\n",
       "      <td>-0.0</td>\n",
       "      <td>-0.4</td>\n",
       "      <td>0.4</td>\n",
       "      <td>4.7</td>\n",
       "      <td>8.4</td>\n",
       "      <td>0</td>\n",
       "    </tr>\n",
       "    <tr>\n",
       "      <th>2</th>\n",
       "      <td>0</td>\n",
       "      <td>198</td>\n",
       "      <td>0.1</td>\n",
       "      <td>0.0</td>\n",
       "      <td>0.3</td>\n",
       "      <td>0.9</td>\n",
       "      <td>4.6</td>\n",
       "      <td>9.0</td>\n",
       "      <td>0</td>\n",
       "    </tr>\n",
       "    <tr>\n",
       "      <th>3</th>\n",
       "      <td>0</td>\n",
       "      <td>297</td>\n",
       "      <td>0.1</td>\n",
       "      <td>-0.1</td>\n",
       "      <td>-0.5</td>\n",
       "      <td>0.8</td>\n",
       "      <td>4.7</td>\n",
       "      <td>7.2</td>\n",
       "      <td>0</td>\n",
       "    </tr>\n",
       "    <tr>\n",
       "      <th>4</th>\n",
       "      <td>0</td>\n",
       "      <td>388</td>\n",
       "      <td>0.1</td>\n",
       "      <td>0.2</td>\n",
       "      <td>0.6</td>\n",
       "      <td>0.9</td>\n",
       "      <td>4.7</td>\n",
       "      <td>8.9</td>\n",
       "      <td>0</td>\n",
       "    </tr>\n",
       "  </tbody>\n",
       "</table>\n",
       "</div>"
      ],
      "text/plain": [
       "   fragment_id  time_point  acc_x  acc_y  acc_z  acc_xg  acc_yg  acc_zg  \\\n",
       "0            0          27    0.3   -0.3    0.1     0.6     4.5     8.8   \n",
       "1            0         108    0.1   -0.0   -0.4     0.4     4.7     8.4   \n",
       "2            0         198    0.1    0.0    0.3     0.9     4.6     9.0   \n",
       "3            0         297    0.1   -0.1   -0.5     0.8     4.7     7.2   \n",
       "4            0         388    0.1    0.2    0.6     0.9     4.7     8.9   \n",
       "\n",
       "   behavior_id  \n",
       "0            0  \n",
       "1            0  \n",
       "2            0  \n",
       "3            0  \n",
       "4            0  "
      ]
     },
     "execution_count": 6,
     "metadata": {},
     "output_type": "execute_result"
    }
   ],
   "source": [
    "train_data.head(5)"
   ]
  },
  {
   "cell_type": "code",
   "execution_count": 7,
   "metadata": {},
   "outputs": [
    {
     "data": {
      "text/html": [
       "<div>\n",
       "<style scoped>\n",
       "    .dataframe tbody tr th:only-of-type {\n",
       "        vertical-align: middle;\n",
       "    }\n",
       "\n",
       "    .dataframe tbody tr th {\n",
       "        vertical-align: top;\n",
       "    }\n",
       "\n",
       "    .dataframe thead th {\n",
       "        text-align: right;\n",
       "    }\n",
       "</style>\n",
       "<table border=\"1\" class=\"dataframe\">\n",
       "  <thead>\n",
       "    <tr style=\"text-align: right;\">\n",
       "      <th></th>\n",
       "      <th>fragment_id</th>\n",
       "      <th>time_point</th>\n",
       "      <th>acc_x</th>\n",
       "      <th>acc_y</th>\n",
       "      <th>acc_z</th>\n",
       "      <th>acc_xg</th>\n",
       "      <th>acc_yg</th>\n",
       "      <th>acc_zg</th>\n",
       "    </tr>\n",
       "  </thead>\n",
       "  <tbody>\n",
       "    <tr>\n",
       "      <th>0</th>\n",
       "      <td>0</td>\n",
       "      <td>71</td>\n",
       "      <td>0.2</td>\n",
       "      <td>1.0</td>\n",
       "      <td>0.6</td>\n",
       "      <td>0.2</td>\n",
       "      <td>5.3</td>\n",
       "      <td>9.2</td>\n",
       "    </tr>\n",
       "    <tr>\n",
       "      <th>1</th>\n",
       "      <td>0</td>\n",
       "      <td>150</td>\n",
       "      <td>0.0</td>\n",
       "      <td>1.0</td>\n",
       "      <td>-0.7</td>\n",
       "      <td>0.2</td>\n",
       "      <td>6.0</td>\n",
       "      <td>8.2</td>\n",
       "    </tr>\n",
       "    <tr>\n",
       "      <th>2</th>\n",
       "      <td>0</td>\n",
       "      <td>244</td>\n",
       "      <td>-0.2</td>\n",
       "      <td>0.8</td>\n",
       "      <td>-2.4</td>\n",
       "      <td>-0.4</td>\n",
       "      <td>5.3</td>\n",
       "      <td>7.6</td>\n",
       "    </tr>\n",
       "    <tr>\n",
       "      <th>3</th>\n",
       "      <td>0</td>\n",
       "      <td>326</td>\n",
       "      <td>2.3</td>\n",
       "      <td>-0.4</td>\n",
       "      <td>-1.6</td>\n",
       "      <td>2.5</td>\n",
       "      <td>4.5</td>\n",
       "      <td>3.4</td>\n",
       "    </tr>\n",
       "    <tr>\n",
       "      <th>4</th>\n",
       "      <td>0</td>\n",
       "      <td>409</td>\n",
       "      <td>-0.3</td>\n",
       "      <td>-1.4</td>\n",
       "      <td>3.3</td>\n",
       "      <td>0.2</td>\n",
       "      <td>3.5</td>\n",
       "      <td>12.4</td>\n",
       "    </tr>\n",
       "  </tbody>\n",
       "</table>\n",
       "</div>"
      ],
      "text/plain": [
       "   fragment_id  time_point  acc_x  acc_y  acc_z  acc_xg  acc_yg  acc_zg\n",
       "0            0          71    0.2    1.0    0.6     0.2     5.3     9.2\n",
       "1            0         150    0.0    1.0   -0.7     0.2     6.0     8.2\n",
       "2            0         244   -0.2    0.8   -2.4    -0.4     5.3     7.6\n",
       "3            0         326    2.3   -0.4   -1.6     2.5     4.5     3.4\n",
       "4            0         409   -0.3   -1.4    3.3     0.2     3.5    12.4"
      ]
     },
     "execution_count": 7,
     "metadata": {},
     "output_type": "execute_result"
    }
   ],
   "source": [
    "test_data.head(5)"
   ]
  },
  {
   "cell_type": "code",
   "execution_count": 8,
   "metadata": {},
   "outputs": [
    {
     "name": "stdout",
     "output_type": "stream",
     "text": [
      "<class 'pandas.core.frame.DataFrame'>\n",
      "RangeIndex: 425359 entries, 0 to 425358\n",
      "Data columns (total 9 columns):\n",
      "fragment_id    425359 non-null int64\n",
      "time_point     425359 non-null int64\n",
      "acc_x          425359 non-null float64\n",
      "acc_y          425359 non-null float64\n",
      "acc_z          425359 non-null float64\n",
      "acc_xg         425359 non-null float64\n",
      "acc_yg         425359 non-null float64\n",
      "acc_zg         425359 non-null float64\n",
      "behavior_id    425359 non-null int64\n",
      "dtypes: float64(6), int64(3)\n",
      "memory usage: 29.2 MB\n"
     ]
    }
   ],
   "source": [
    "train_data.info()"
   ]
  },
  {
   "cell_type": "code",
   "execution_count": 9,
   "metadata": {},
   "outputs": [
    {
     "data": {
      "text/html": [
       "<div>\n",
       "<style scoped>\n",
       "    .dataframe tbody tr th:only-of-type {\n",
       "        vertical-align: middle;\n",
       "    }\n",
       "\n",
       "    .dataframe tbody tr th {\n",
       "        vertical-align: top;\n",
       "    }\n",
       "\n",
       "    .dataframe thead th {\n",
       "        text-align: right;\n",
       "    }\n",
       "</style>\n",
       "<table border=\"1\" class=\"dataframe\">\n",
       "  <thead>\n",
       "    <tr style=\"text-align: right;\">\n",
       "      <th></th>\n",
       "      <th>fragment_id</th>\n",
       "      <th>time_point</th>\n",
       "      <th>acc_x</th>\n",
       "      <th>acc_y</th>\n",
       "      <th>acc_z</th>\n",
       "      <th>acc_xg</th>\n",
       "      <th>acc_yg</th>\n",
       "      <th>acc_zg</th>\n",
       "      <th>behavior_id</th>\n",
       "    </tr>\n",
       "  </thead>\n",
       "  <tbody>\n",
       "    <tr>\n",
       "      <th>count</th>\n",
       "      <td>425359.000000</td>\n",
       "      <td>425359.000000</td>\n",
       "      <td>425359.000000</td>\n",
       "      <td>425359.000000</td>\n",
       "      <td>425359.000000</td>\n",
       "      <td>425359.000000</td>\n",
       "      <td>425359.000000</td>\n",
       "      <td>425359.000000</td>\n",
       "      <td>425359.000000</td>\n",
       "    </tr>\n",
       "    <tr>\n",
       "      <th>mean</th>\n",
       "      <td>3647.035972</td>\n",
       "      <td>2500.952026</td>\n",
       "      <td>0.009635</td>\n",
       "      <td>-0.063114</td>\n",
       "      <td>0.024548</td>\n",
       "      <td>0.965656</td>\n",
       "      <td>2.730190</td>\n",
       "      <td>7.825065</td>\n",
       "      <td>8.535035</td>\n",
       "    </tr>\n",
       "    <tr>\n",
       "      <th>std</th>\n",
       "      <td>2103.253140</td>\n",
       "      <td>1442.307956</td>\n",
       "      <td>0.619285</td>\n",
       "      <td>0.537614</td>\n",
       "      <td>0.717009</td>\n",
       "      <td>3.295531</td>\n",
       "      <td>2.978134</td>\n",
       "      <td>2.653261</td>\n",
       "      <td>5.395264</td>\n",
       "    </tr>\n",
       "    <tr>\n",
       "      <th>min</th>\n",
       "      <td>0.000000</td>\n",
       "      <td>0.000000</td>\n",
       "      <td>-14.700000</td>\n",
       "      <td>-14.700000</td>\n",
       "      <td>-12.600000</td>\n",
       "      <td>-19.800000</td>\n",
       "      <td>-16.900000</td>\n",
       "      <td>-8.900000</td>\n",
       "      <td>0.000000</td>\n",
       "    </tr>\n",
       "    <tr>\n",
       "      <th>25%</th>\n",
       "      <td>1822.000000</td>\n",
       "      <td>1252.000000</td>\n",
       "      <td>-0.100000</td>\n",
       "      <td>-0.100000</td>\n",
       "      <td>-0.200000</td>\n",
       "      <td>-0.700000</td>\n",
       "      <td>0.400000</td>\n",
       "      <td>7.300000</td>\n",
       "      <td>4.000000</td>\n",
       "    </tr>\n",
       "    <tr>\n",
       "      <th>50%</th>\n",
       "      <td>3646.000000</td>\n",
       "      <td>2501.000000</td>\n",
       "      <td>0.000000</td>\n",
       "      <td>0.000000</td>\n",
       "      <td>0.000000</td>\n",
       "      <td>0.200000</td>\n",
       "      <td>2.700000</td>\n",
       "      <td>8.700000</td>\n",
       "      <td>8.000000</td>\n",
       "    </tr>\n",
       "    <tr>\n",
       "      <th>75%</th>\n",
       "      <td>5466.000000</td>\n",
       "      <td>3749.000000</td>\n",
       "      <td>0.100000</td>\n",
       "      <td>0.100000</td>\n",
       "      <td>0.200000</td>\n",
       "      <td>2.000000</td>\n",
       "      <td>4.900000</td>\n",
       "      <td>9.400000</td>\n",
       "      <td>13.000000</td>\n",
       "    </tr>\n",
       "    <tr>\n",
       "      <th>max</th>\n",
       "      <td>7291.000000</td>\n",
       "      <td>4999.000000</td>\n",
       "      <td>34.500000</td>\n",
       "      <td>13.400000</td>\n",
       "      <td>28.200000</td>\n",
       "      <td>30.200000</td>\n",
       "      <td>14.400000</td>\n",
       "      <td>38.100000</td>\n",
       "      <td>18.000000</td>\n",
       "    </tr>\n",
       "  </tbody>\n",
       "</table>\n",
       "</div>"
      ],
      "text/plain": [
       "         fragment_id     time_point          acc_x          acc_y  \\\n",
       "count  425359.000000  425359.000000  425359.000000  425359.000000   \n",
       "mean     3647.035972    2500.952026       0.009635      -0.063114   \n",
       "std      2103.253140    1442.307956       0.619285       0.537614   \n",
       "min         0.000000       0.000000     -14.700000     -14.700000   \n",
       "25%      1822.000000    1252.000000      -0.100000      -0.100000   \n",
       "50%      3646.000000    2501.000000       0.000000       0.000000   \n",
       "75%      5466.000000    3749.000000       0.100000       0.100000   \n",
       "max      7291.000000    4999.000000      34.500000      13.400000   \n",
       "\n",
       "               acc_z         acc_xg         acc_yg         acc_zg  \\\n",
       "count  425359.000000  425359.000000  425359.000000  425359.000000   \n",
       "mean        0.024548       0.965656       2.730190       7.825065   \n",
       "std         0.717009       3.295531       2.978134       2.653261   \n",
       "min       -12.600000     -19.800000     -16.900000      -8.900000   \n",
       "25%        -0.200000      -0.700000       0.400000       7.300000   \n",
       "50%         0.000000       0.200000       2.700000       8.700000   \n",
       "75%         0.200000       2.000000       4.900000       9.400000   \n",
       "max        28.200000      30.200000      14.400000      38.100000   \n",
       "\n",
       "         behavior_id  \n",
       "count  425359.000000  \n",
       "mean        8.535035  \n",
       "std         5.395264  \n",
       "min         0.000000  \n",
       "25%         4.000000  \n",
       "50%         8.000000  \n",
       "75%        13.000000  \n",
       "max        18.000000  "
      ]
     },
     "execution_count": 9,
     "metadata": {},
     "output_type": "execute_result"
    }
   ],
   "source": [
    "train_data.describe()"
   ]
  },
  {
   "cell_type": "markdown",
   "metadata": {},
   "source": [
    "## 统计片段数"
   ]
  },
  {
   "cell_type": "markdown",
   "metadata": {},
   "source": [
    "每个片段的平均时间长度、最大长度，最小长度。"
   ]
  },
  {
   "cell_type": "code",
   "execution_count": 21,
   "metadata": {},
   "outputs": [
    {
     "data": {
      "text/plain": [
       "count    7292.000000\n",
       "mean       58.332282\n",
       "std         1.668028\n",
       "min        50.000000\n",
       "25%        57.000000\n",
       "50%        58.000000\n",
       "75%        60.000000\n",
       "max        61.000000\n",
       "Name: fragment_id, dtype: float64"
      ]
     },
     "execution_count": 21,
     "metadata": {},
     "output_type": "execute_result"
    }
   ],
   "source": [
    "train_data['fragment_id'].value_counts().describe()"
   ]
  },
  {
   "cell_type": "markdown",
   "metadata": {},
   "source": [
    "可以看到，共7292个片段，每个片段平均长度58.33，最小长度维50，最大长度维61,基本上片段都在55-60之间。"
   ]
  },
  {
   "cell_type": "code",
   "execution_count": 26,
   "metadata": {},
   "outputs": [
    {
     "data": {
      "image/png": "[encoded data removed]",
      "text/plain": [
       "<Figure size 432x288 with 1 Axes>"
      ]
     },
     "metadata": {
      "needs_background": "light"
     },
     "output_type": "display_data"
    }
   ],
   "source": [
    "plt.rcParams['font.sans-serif']=['SimHei']\n",
    "train_data['fragment_id'].value_counts().plot(kind='kde')\n",
    "plt.title('片段长度概率密度分布')\n",
    "plt.xlabel('片段长度')\n",
    "plt.show()"
   ]
  },
  {
   "cell_type": "markdown",
   "metadata": {},
   "source": [
    "## 统计每个行为的数目"
   ]
  },
  {
   "cell_type": "code",
   "execution_count": 33,
   "metadata": {},
   "outputs": [
    {
     "data": {
      "image/png": "[encoded data removed]",
      "text/plain": [
       "<Figure size 432x288 with 1 Axes>"
      ]
     },
     "metadata": {
      "needs_background": "light"
     },
     "output_type": "display_data"
    }
   ],
   "source": [
    "train_data.groupby('behavior_id')['fragment_id'].count().plot(kind='bar')\n",
    "plt.title('每个行为的片段数')\n",
    "plt.xlabel('行为')\n",
    "plt.ylabel('片段数')\n",
    "plt.show()"
   ]
  },
  {
   "cell_type": "markdown",
   "metadata": {},
   "source": [
    "存在不均衡问题，有些行为样本较多。有些较少。"
   ]
  },
  {
   "cell_type": "markdown",
   "metadata": {},
   "source": [
    "## 看看某一行为情况。"
   ]
  },
  {
   "cell_type": "code",
   "execution_count": 34,
   "metadata": {},
   "outputs": [],
   "source": [
    "behavior_6=train_data[train_data.behavior_id==6] # 行为6的所有数据。"
   ]
  },
  {
   "cell_type": "code",
   "execution_count": 36,
   "metadata": {},
   "outputs": [
    {
     "data": {
      "text/html": [
       "<div>\n",
       "<style scoped>\n",
       "    .dataframe tbody tr th:only-of-type {\n",
       "        vertical-align: middle;\n",
       "    }\n",
       "\n",
       "    .dataframe tbody tr th {\n",
       "        vertical-align: top;\n",
       "    }\n",
       "\n",
       "    .dataframe thead th {\n",
       "        text-align: right;\n",
       "    }\n",
       "</style>\n",
       "<table border=\"1\" class=\"dataframe\">\n",
       "  <thead>\n",
       "    <tr style=\"text-align: right;\">\n",
       "      <th></th>\n",
       "      <th>fragment_id</th>\n",
       "      <th>time_point</th>\n",
       "      <th>acc_x</th>\n",
       "      <th>acc_y</th>\n",
       "      <th>acc_z</th>\n",
       "      <th>acc_xg</th>\n",
       "      <th>acc_yg</th>\n",
       "      <th>acc_zg</th>\n",
       "      <th>behavior_id</th>\n",
       "    </tr>\n",
       "  </thead>\n",
       "  <tbody>\n",
       "    <tr>\n",
       "      <th>141568</th>\n",
       "      <td>2436</td>\n",
       "      <td>33</td>\n",
       "      <td>0.2</td>\n",
       "      <td>-0.0</td>\n",
       "      <td>0.1</td>\n",
       "      <td>0.2</td>\n",
       "      <td>3.2</td>\n",
       "      <td>9.4</td>\n",
       "      <td>6</td>\n",
       "    </tr>\n",
       "    <tr>\n",
       "      <th>141569</th>\n",
       "      <td>2436</td>\n",
       "      <td>121</td>\n",
       "      <td>0.1</td>\n",
       "      <td>0.1</td>\n",
       "      <td>0.1</td>\n",
       "      <td>0.2</td>\n",
       "      <td>3.3</td>\n",
       "      <td>9.3</td>\n",
       "      <td>6</td>\n",
       "    </tr>\n",
       "    <tr>\n",
       "      <th>141570</th>\n",
       "      <td>2436</td>\n",
       "      <td>201</td>\n",
       "      <td>-0.0</td>\n",
       "      <td>0.0</td>\n",
       "      <td>-0.0</td>\n",
       "      <td>0.0</td>\n",
       "      <td>3.2</td>\n",
       "      <td>9.2</td>\n",
       "      <td>6</td>\n",
       "    </tr>\n",
       "    <tr>\n",
       "      <th>141571</th>\n",
       "      <td>2436</td>\n",
       "      <td>283</td>\n",
       "      <td>-0.1</td>\n",
       "      <td>-0.0</td>\n",
       "      <td>0.2</td>\n",
       "      <td>-0.1</td>\n",
       "      <td>3.1</td>\n",
       "      <td>9.4</td>\n",
       "      <td>6</td>\n",
       "    </tr>\n",
       "    <tr>\n",
       "      <th>141572</th>\n",
       "      <td>2436</td>\n",
       "      <td>366</td>\n",
       "      <td>-0.0</td>\n",
       "      <td>0.0</td>\n",
       "      <td>0.0</td>\n",
       "      <td>-0.0</td>\n",
       "      <td>3.1</td>\n",
       "      <td>9.2</td>\n",
       "      <td>6</td>\n",
       "    </tr>\n",
       "  </tbody>\n",
       "</table>\n",
       "</div>"
      ],
      "text/plain": [
       "        fragment_id  time_point  acc_x  acc_y  acc_z  acc_xg  acc_yg  acc_zg  \\\n",
       "141568         2436          33    0.2   -0.0    0.1     0.2     3.2     9.4   \n",
       "141569         2436         121    0.1    0.1    0.1     0.2     3.3     9.3   \n",
       "141570         2436         201   -0.0    0.0   -0.0     0.0     3.2     9.2   \n",
       "141571         2436         283   -0.1   -0.0    0.2    -0.1     3.1     9.4   \n",
       "141572         2436         366   -0.0    0.0    0.0    -0.0     3.1     9.2   \n",
       "\n",
       "        behavior_id  \n",
       "141568            6  \n",
       "141569            6  \n",
       "141570            6  \n",
       "141571            6  \n",
       "141572            6  "
      ]
     },
     "execution_count": 36,
     "metadata": {},
     "output_type": "execute_result"
    }
   ],
   "source": [
    "behavior_6.head(5)"
   ]
  },
  {
   "cell_type": "code",
   "execution_count": 37,
   "metadata": {},
   "outputs": [
    {
     "data": {
      "text/html": [
       "<div>\n",
       "<style scoped>\n",
       "    .dataframe tbody tr th:only-of-type {\n",
       "        vertical-align: middle;\n",
       "    }\n",
       "\n",
       "    .dataframe tbody tr th {\n",
       "        vertical-align: top;\n",
       "    }\n",
       "\n",
       "    .dataframe thead th {\n",
       "        text-align: right;\n",
       "    }\n",
       "</style>\n",
       "<table border=\"1\" class=\"dataframe\">\n",
       "  <thead>\n",
       "    <tr style=\"text-align: right;\">\n",
       "      <th></th>\n",
       "      <th>fragment_id</th>\n",
       "      <th>time_point</th>\n",
       "      <th>acc_x</th>\n",
       "      <th>acc_y</th>\n",
       "      <th>acc_z</th>\n",
       "      <th>acc_xg</th>\n",
       "      <th>acc_yg</th>\n",
       "      <th>acc_zg</th>\n",
       "      <th>behavior_id</th>\n",
       "    </tr>\n",
       "  </thead>\n",
       "  <tbody>\n",
       "    <tr>\n",
       "      <th>count</th>\n",
       "      <td>43646.000000</td>\n",
       "      <td>43646.000000</td>\n",
       "      <td>43646.000000</td>\n",
       "      <td>43646.000000</td>\n",
       "      <td>43646.000000</td>\n",
       "      <td>43646.000000</td>\n",
       "      <td>43646.000000</td>\n",
       "      <td>43646.00000</td>\n",
       "      <td>43646.0</td>\n",
       "    </tr>\n",
       "    <tr>\n",
       "      <th>mean</th>\n",
       "      <td>2805.533634</td>\n",
       "      <td>2498.770403</td>\n",
       "      <td>0.006498</td>\n",
       "      <td>-0.010892</td>\n",
       "      <td>-0.000119</td>\n",
       "      <td>-0.310546</td>\n",
       "      <td>3.589486</td>\n",
       "      <td>8.73887</td>\n",
       "      <td>6.0</td>\n",
       "    </tr>\n",
       "    <tr>\n",
       "      <th>std</th>\n",
       "      <td>214.020835</td>\n",
       "      <td>1442.771417</td>\n",
       "      <td>0.225016</td>\n",
       "      <td>0.159492</td>\n",
       "      <td>0.327772</td>\n",
       "      <td>0.846834</td>\n",
       "      <td>1.924268</td>\n",
       "      <td>1.06314</td>\n",
       "      <td>0.0</td>\n",
       "    </tr>\n",
       "    <tr>\n",
       "      <th>min</th>\n",
       "      <td>2436.000000</td>\n",
       "      <td>0.000000</td>\n",
       "      <td>-7.300000</td>\n",
       "      <td>-4.800000</td>\n",
       "      <td>-6.900000</td>\n",
       "      <td>-5.900000</td>\n",
       "      <td>-3.500000</td>\n",
       "      <td>1.80000</td>\n",
       "      <td>6.0</td>\n",
       "    </tr>\n",
       "    <tr>\n",
       "      <th>25%</th>\n",
       "      <td>2620.000000</td>\n",
       "      <td>1252.000000</td>\n",
       "      <td>-0.100000</td>\n",
       "      <td>-0.100000</td>\n",
       "      <td>-0.100000</td>\n",
       "      <td>-0.900000</td>\n",
       "      <td>2.100000</td>\n",
       "      <td>8.20000</td>\n",
       "      <td>6.0</td>\n",
       "    </tr>\n",
       "    <tr>\n",
       "      <th>50%</th>\n",
       "      <td>2807.000000</td>\n",
       "      <td>2501.000000</td>\n",
       "      <td>0.000000</td>\n",
       "      <td>0.000000</td>\n",
       "      <td>-0.000000</td>\n",
       "      <td>-0.200000</td>\n",
       "      <td>3.500000</td>\n",
       "      <td>9.10000</td>\n",
       "      <td>6.0</td>\n",
       "    </tr>\n",
       "    <tr>\n",
       "      <th>75%</th>\n",
       "      <td>2989.000000</td>\n",
       "      <td>3749.000000</td>\n",
       "      <td>0.100000</td>\n",
       "      <td>0.000000</td>\n",
       "      <td>0.100000</td>\n",
       "      <td>0.300000</td>\n",
       "      <td>5.100000</td>\n",
       "      <td>9.50000</td>\n",
       "      <td>6.0</td>\n",
       "    </tr>\n",
       "    <tr>\n",
       "      <th>max</th>\n",
       "      <td>3177.000000</td>\n",
       "      <td>4999.000000</td>\n",
       "      <td>5.100000</td>\n",
       "      <td>2.600000</td>\n",
       "      <td>8.000000</td>\n",
       "      <td>13.800000</td>\n",
       "      <td>8.900000</td>\n",
       "      <td>18.70000</td>\n",
       "      <td>6.0</td>\n",
       "    </tr>\n",
       "  </tbody>\n",
       "</table>\n",
       "</div>"
      ],
      "text/plain": [
       "        fragment_id    time_point         acc_x         acc_y         acc_z  \\\n",
       "count  43646.000000  43646.000000  43646.000000  43646.000000  43646.000000   \n",
       "mean    2805.533634   2498.770403      0.006498     -0.010892     -0.000119   \n",
       "std      214.020835   1442.771417      0.225016      0.159492      0.327772   \n",
       "min     2436.000000      0.000000     -7.300000     -4.800000     -6.900000   \n",
       "25%     2620.000000   1252.000000     -0.100000     -0.100000     -0.100000   \n",
       "50%     2807.000000   2501.000000      0.000000      0.000000     -0.000000   \n",
       "75%     2989.000000   3749.000000      0.100000      0.000000      0.100000   \n",
       "max     3177.000000   4999.000000      5.100000      2.600000      8.000000   \n",
       "\n",
       "             acc_xg        acc_yg       acc_zg  behavior_id  \n",
       "count  43646.000000  43646.000000  43646.00000      43646.0  \n",
       "mean      -0.310546      3.589486      8.73887          6.0  \n",
       "std        0.846834      1.924268      1.06314          0.0  \n",
       "min       -5.900000     -3.500000      1.80000          6.0  \n",
       "25%       -0.900000      2.100000      8.20000          6.0  \n",
       "50%       -0.200000      3.500000      9.10000          6.0  \n",
       "75%        0.300000      5.100000      9.50000          6.0  \n",
       "max       13.800000      8.900000     18.70000          6.0  "
      ]
     },
     "execution_count": 37,
     "metadata": {},
     "output_type": "execute_result"
    }
   ],
   "source": [
    "behavior_6.describe()"
   ]
  },
  {
   "cell_type": "code",
   "execution_count": 38,
   "metadata": {},
   "outputs": [
    {
     "data": {
      "text/html": [
       "<div>\n",
       "<style scoped>\n",
       "    .dataframe tbody tr th:only-of-type {\n",
       "        vertical-align: middle;\n",
       "    }\n",
       "\n",
       "    .dataframe tbody tr th {\n",
       "        vertical-align: top;\n",
       "    }\n",
       "\n",
       "    .dataframe thead th {\n",
       "        text-align: right;\n",
       "    }\n",
       "</style>\n",
       "<table border=\"1\" class=\"dataframe\">\n",
       "  <thead>\n",
       "    <tr style=\"text-align: right;\">\n",
       "      <th></th>\n",
       "      <th>fragment_id</th>\n",
       "      <th>time_point</th>\n",
       "      <th>acc_x</th>\n",
       "      <th>acc_y</th>\n",
       "      <th>acc_z</th>\n",
       "      <th>acc_xg</th>\n",
       "      <th>acc_yg</th>\n",
       "      <th>acc_zg</th>\n",
       "      <th>behavior_id</th>\n",
       "    </tr>\n",
       "  </thead>\n",
       "  <tbody>\n",
       "    <tr>\n",
       "      <th>334931</th>\n",
       "      <td>5739</td>\n",
       "      <td>42</td>\n",
       "      <td>0.5</td>\n",
       "      <td>0.3</td>\n",
       "      <td>0.1</td>\n",
       "      <td>1.3</td>\n",
       "      <td>4.8</td>\n",
       "      <td>9.3</td>\n",
       "      <td>14</td>\n",
       "    </tr>\n",
       "    <tr>\n",
       "      <th>334932</th>\n",
       "      <td>5739</td>\n",
       "      <td>126</td>\n",
       "      <td>-0.0</td>\n",
       "      <td>-0.6</td>\n",
       "      <td>0.0</td>\n",
       "      <td>0.5</td>\n",
       "      <td>4.0</td>\n",
       "      <td>8.6</td>\n",
       "      <td>14</td>\n",
       "    </tr>\n",
       "    <tr>\n",
       "      <th>334933</th>\n",
       "      <td>5739</td>\n",
       "      <td>212</td>\n",
       "      <td>1.1</td>\n",
       "      <td>-0.3</td>\n",
       "      <td>-1.8</td>\n",
       "      <td>2.2</td>\n",
       "      <td>3.8</td>\n",
       "      <td>7.8</td>\n",
       "      <td>14</td>\n",
       "    </tr>\n",
       "    <tr>\n",
       "      <th>334934</th>\n",
       "      <td>5739</td>\n",
       "      <td>306</td>\n",
       "      <td>-0.8</td>\n",
       "      <td>-0.8</td>\n",
       "      <td>1.1</td>\n",
       "      <td>0.2</td>\n",
       "      <td>3.7</td>\n",
       "      <td>9.0</td>\n",
       "      <td>14</td>\n",
       "    </tr>\n",
       "    <tr>\n",
       "      <th>334935</th>\n",
       "      <td>5739</td>\n",
       "      <td>392</td>\n",
       "      <td>-0.7</td>\n",
       "      <td>0.1</td>\n",
       "      <td>-2.1</td>\n",
       "      <td>-0.1</td>\n",
       "      <td>4.5</td>\n",
       "      <td>7.8</td>\n",
       "      <td>14</td>\n",
       "    </tr>\n",
       "  </tbody>\n",
       "</table>\n",
       "</div>"
      ],
      "text/plain": [
       "        fragment_id  time_point  acc_x  acc_y  acc_z  acc_xg  acc_yg  acc_zg  \\\n",
       "334931         5739          42    0.5    0.3    0.1     1.3     4.8     9.3   \n",
       "334932         5739         126   -0.0   -0.6    0.0     0.5     4.0     8.6   \n",
       "334933         5739         212    1.1   -0.3   -1.8     2.2     3.8     7.8   \n",
       "334934         5739         306   -0.8   -0.8    1.1     0.2     3.7     9.0   \n",
       "334935         5739         392   -0.7    0.1   -2.1    -0.1     4.5     7.8   \n",
       "\n",
       "        behavior_id  \n",
       "334931           14  \n",
       "334932           14  \n",
       "334933           14  \n",
       "334934           14  \n",
       "334935           14  "
      ]
     },
     "execution_count": 38,
     "metadata": {},
     "output_type": "execute_result"
    }
   ],
   "source": [
    "behavior_14=train_data[train_data.behavior_id==14] # 行为14的所有数据。\n",
    "behavior_14.head(5)"
   ]
  },
  {
   "cell_type": "code",
   "execution_count": 39,
   "metadata": {},
   "outputs": [
    {
     "data": {
      "text/html": [
       "<div>\n",
       "<style scoped>\n",
       "    .dataframe tbody tr th:only-of-type {\n",
       "        vertical-align: middle;\n",
       "    }\n",
       "\n",
       "    .dataframe tbody tr th {\n",
       "        vertical-align: top;\n",
       "    }\n",
       "\n",
       "    .dataframe thead th {\n",
       "        text-align: right;\n",
       "    }\n",
       "</style>\n",
       "<table border=\"1\" class=\"dataframe\">\n",
       "  <thead>\n",
       "    <tr style=\"text-align: right;\">\n",
       "      <th></th>\n",
       "      <th>fragment_id</th>\n",
       "      <th>time_point</th>\n",
       "      <th>acc_x</th>\n",
       "      <th>acc_y</th>\n",
       "      <th>acc_z</th>\n",
       "      <th>acc_xg</th>\n",
       "      <th>acc_yg</th>\n",
       "      <th>acc_zg</th>\n",
       "      <th>behavior_id</th>\n",
       "    </tr>\n",
       "  </thead>\n",
       "  <tbody>\n",
       "    <tr>\n",
       "      <th>count</th>\n",
       "      <td>7061.000000</td>\n",
       "      <td>7061.000000</td>\n",
       "      <td>7061.000000</td>\n",
       "      <td>7061.000000</td>\n",
       "      <td>7061.000000</td>\n",
       "      <td>7061.000000</td>\n",
       "      <td>7061.000000</td>\n",
       "      <td>7061.000000</td>\n",
       "      <td>7061.0</td>\n",
       "    </tr>\n",
       "    <tr>\n",
       "      <th>mean</th>\n",
       "      <td>5801.051692</td>\n",
       "      <td>2498.691262</td>\n",
       "      <td>-0.026540</td>\n",
       "      <td>-0.230081</td>\n",
       "      <td>0.059878</td>\n",
       "      <td>-0.357159</td>\n",
       "      <td>3.434485</td>\n",
       "      <td>8.924487</td>\n",
       "      <td>14.0</td>\n",
       "    </tr>\n",
       "    <tr>\n",
       "      <th>std</th>\n",
       "      <td>36.090605</td>\n",
       "      <td>1441.276440</td>\n",
       "      <td>0.655105</td>\n",
       "      <td>0.645454</td>\n",
       "      <td>0.859088</td>\n",
       "      <td>0.990088</td>\n",
       "      <td>1.233323</td>\n",
       "      <td>0.957568</td>\n",
       "      <td>0.0</td>\n",
       "    </tr>\n",
       "    <tr>\n",
       "      <th>min</th>\n",
       "      <td>5739.000000</td>\n",
       "      <td>0.000000</td>\n",
       "      <td>-3.900000</td>\n",
       "      <td>-3.900000</td>\n",
       "      <td>-5.900000</td>\n",
       "      <td>-17.000000</td>\n",
       "      <td>-0.700000</td>\n",
       "      <td>4.000000</td>\n",
       "      <td>14.0</td>\n",
       "    </tr>\n",
       "    <tr>\n",
       "      <th>25%</th>\n",
       "      <td>5770.000000</td>\n",
       "      <td>1250.000000</td>\n",
       "      <td>-0.400000</td>\n",
       "      <td>-0.700000</td>\n",
       "      <td>-0.400000</td>\n",
       "      <td>-1.000000</td>\n",
       "      <td>2.400000</td>\n",
       "      <td>8.400000</td>\n",
       "      <td>14.0</td>\n",
       "    </tr>\n",
       "    <tr>\n",
       "      <th>50%</th>\n",
       "      <td>5801.000000</td>\n",
       "      <td>2496.000000</td>\n",
       "      <td>-0.000000</td>\n",
       "      <td>-0.200000</td>\n",
       "      <td>-0.000000</td>\n",
       "      <td>-0.300000</td>\n",
       "      <td>3.600000</td>\n",
       "      <td>8.900000</td>\n",
       "      <td>14.0</td>\n",
       "    </tr>\n",
       "    <tr>\n",
       "      <th>75%</th>\n",
       "      <td>5832.000000</td>\n",
       "      <td>3744.000000</td>\n",
       "      <td>0.400000</td>\n",
       "      <td>0.200000</td>\n",
       "      <td>0.500000</td>\n",
       "      <td>0.300000</td>\n",
       "      <td>4.400000</td>\n",
       "      <td>9.500000</td>\n",
       "      <td>14.0</td>\n",
       "    </tr>\n",
       "    <tr>\n",
       "      <th>max</th>\n",
       "      <td>5864.000000</td>\n",
       "      <td>4998.000000</td>\n",
       "      <td>4.000000</td>\n",
       "      <td>2.400000</td>\n",
       "      <td>5.600000</td>\n",
       "      <td>6.000000</td>\n",
       "      <td>7.600000</td>\n",
       "      <td>13.800000</td>\n",
       "      <td>14.0</td>\n",
       "    </tr>\n",
       "  </tbody>\n",
       "</table>\n",
       "</div>"
      ],
      "text/plain": [
       "       fragment_id   time_point        acc_x        acc_y        acc_z  \\\n",
       "count  7061.000000  7061.000000  7061.000000  7061.000000  7061.000000   \n",
       "mean   5801.051692  2498.691262    -0.026540    -0.230081     0.059878   \n",
       "std      36.090605  1441.276440     0.655105     0.645454     0.859088   \n",
       "min    5739.000000     0.000000    -3.900000    -3.900000    -5.900000   \n",
       "25%    5770.000000  1250.000000    -0.400000    -0.700000    -0.400000   \n",
       "50%    5801.000000  2496.000000    -0.000000    -0.200000    -0.000000   \n",
       "75%    5832.000000  3744.000000     0.400000     0.200000     0.500000   \n",
       "max    5864.000000  4998.000000     4.000000     2.400000     5.600000   \n",
       "\n",
       "            acc_xg       acc_yg       acc_zg  behavior_id  \n",
       "count  7061.000000  7061.000000  7061.000000       7061.0  \n",
       "mean     -0.357159     3.434485     8.924487         14.0  \n",
       "std       0.990088     1.233323     0.957568          0.0  \n",
       "min     -17.000000    -0.700000     4.000000         14.0  \n",
       "25%      -1.000000     2.400000     8.400000         14.0  \n",
       "50%      -0.300000     3.600000     8.900000         14.0  \n",
       "75%       0.300000     4.400000     9.500000         14.0  \n",
       "max       6.000000     7.600000    13.800000         14.0  "
      ]
     },
     "execution_count": 39,
     "metadata": {},
     "output_type": "execute_result"
    }
   ],
   "source": [
    "behavior_14.describe()"
   ]
  },
  {
   "cell_type": "markdown",
   "metadata": {},
   "source": [
    "### 查看某一样本的数据情况"
   ]
  },
  {
   "cell_type": "code",
   "execution_count": 53,
   "metadata": {},
   "outputs": [
    {
     "data": {
      "image/png": "[encoded data removed]",
      "text/plain": [
       "<Figure size 432x288 with 1 Axes>"
      ]
     },
     "metadata": {
      "needs_background": "light"
     },
     "output_type": "display_data"
    }
   ],
   "source": [
    "# 行为6的某以片段\n",
    "behavior_6_2436=behavior_6[behavior_6.fragment_id==2436]\n",
    "behavior_6_2436=behavior_6_2436.drop(['fragment_id','time_point','behavior_id'],axis=1)\n",
    "behavior_6_2436.plot()\n",
    "plt.title('total')\n",
    "plt.show()"
   ]
  },
  {
   "cell_type": "code",
   "execution_count": 54,
   "metadata": {},
   "outputs": [
    {
     "name": "stderr",
     "output_type": "stream",
     "text": [
      "D:\\Program Files\\anaconda3\\lib\\site-packages\\matplotlib\\backends\\backend_agg.py:211: RuntimeWarning: Glyph 8722 missing from current font.\n",
      "  font.set_text(s, 0.0, flags=flags)\n",
      "D:\\Program Files\\anaconda3\\lib\\site-packages\\matplotlib\\backends\\backend_agg.py:180: RuntimeWarning: Glyph 8722 missing from current font.\n",
      "  font.set_text(s, 0, flags=flags)\n"
     ]
    },
    {
     "data": {
      "image/png": "[encoded data removed]",
      "text/plain": [
       "<Figure size 432x288 with 1 Axes>"
      ]
     },
     "metadata": {
      "needs_background": "light"
     },
     "output_type": "display_data"
    }
   ],
   "source": [
    "behavior_6_2436[['acc_x','acc_y','acc_z']].plot()\n",
    "plt.title('无重力加速度 x,y,z')\n",
    "plt.show()"
   ]
  },
  {
   "cell_type": "code",
   "execution_count": 55,
   "metadata": {},
   "outputs": [
    {
     "data": {
      "image/png": "[encoded data removed]",
      "text/plain": [
       "<Figure size 432x288 with 1 Axes>"
      ]
     },
     "metadata": {
      "needs_background": "light"
     },
     "output_type": "display_data"
    }
   ],
   "source": [
    "behavior_6_2436[['acc_xg','acc_yg','acc_zg']].plot()\n",
    "plt.title('重力加速度 xg,yg,zg')\n",
    "plt.show()"
   ]
  },
  {
   "cell_type": "markdown",
   "metadata": {},
   "source": [
    "### 看看某一行为的均值"
   ]
  },
  {
   "cell_type": "code",
   "execution_count": 56,
   "metadata": {},
   "outputs": [
    {
     "data": {
      "text/plain": [
       "<matplotlib.axes._subplots.AxesSubplot at 0x2914c621a90>"
      ]
     },
     "execution_count": 56,
     "metadata": {},
     "output_type": "execute_result"
    },
    {
     "data": {
      "image/png": "[encoded data removed]",
      "text/plain": [
       "<Figure size 432x288 with 1 Axes>"
      ]
     },
     "metadata": {
      "needs_background": "light"
     },
     "output_type": "display_data"
    }
   ],
   "source": [
    "behavior_6.drop(['fragment_id','time_point','behavior_id'],axis=1).mean().plot()"
   ]
  },
  {
   "cell_type": "code",
   "execution_count": 47,
   "metadata": {},
   "outputs": [
    {
     "data": {
      "text/plain": [
       "<matplotlib.axes._subplots.AxesSubplot at 0x29134fda400>"
      ]
     },
     "execution_count": 47,
     "metadata": {},
     "output_type": "execute_result"
    },
    {
     "name": "stderr",
     "output_type": "stream",
     "text": [
      "D:\\Program Files\\anaconda3\\lib\\site-packages\\matplotlib\\backends\\backend_agg.py:211: RuntimeWarning: Glyph 8722 missing from current font.\n",
      "  font.set_text(s, 0.0, flags=flags)\n",
      "D:\\Program Files\\anaconda3\\lib\\site-packages\\matplotlib\\backends\\backend_agg.py:180: RuntimeWarning: Glyph 8722 missing from current font.\n",
      "  font.set_text(s, 0, flags=flags)\n"
     ]
    },
    {
     "data": {
      "image/png": "[encoded data removed]",
      "text/plain": [
       "<Figure size 432x288 with 1 Axes>"
      ]
     },
     "metadata": {
      "needs_background": "light"
     },
     "output_type": "display_data"
    }
   ],
   "source": [
    "behavior_14_5739=behavior_14[behavior_14.fragment_id==5739]\n",
    "behavior_14_5739=behavior_14_5739.drop(['fragment_id','time_point','behavior_id'],axis=1)\n",
    "behavior_14_5739.plot()"
   ]
  },
  {
   "cell_type": "code",
   "execution_count": 57,
   "metadata": {},
   "outputs": [
    {
     "data": {
      "text/plain": [
       "<matplotlib.axes._subplots.AxesSubplot at 0x2914c66ae80>"
      ]
     },
     "execution_count": 57,
     "metadata": {},
     "output_type": "execute_result"
    },
    {
     "data": {
      "image/png": "[encoded data removed]",
      "text/plain": [
       "<Figure size 432x288 with 1 Axes>"
      ]
     },
     "metadata": {
      "needs_background": "light"
     },
     "output_type": "display_data"
    }
   ],
   "source": [
    "behavior_14.drop(['fragment_id','time_point','behavior_id'],axis=1).mean().plot()"
   ]
  },
  {
   "cell_type": "code",
   "execution_count": null,
   "metadata": {},
   "outputs": [],
   "source": []
  },
  {
   "cell_type": "code",
   "execution_count": null,
   "metadata": {},
   "outputs": [],
   "source": []
  }
 ],
 "metadata": {
  "kernelspec": {
   "display_name": "Python 3",
   "language": "python",
   "name": "python3"
  },
  "language_info": {
   "codemirror_mode": {
    "name": "ipython",
    "version": 3
   },
   "file_extension": ".py",
   "mimetype": "text/x-python",
   "name": "python",
   "nbconvert_exporter": "python",
   "pygments_lexer": "ipython3",
   "version": "3.7.3"
  }
 },
 "nbformat": 4,
 "nbformat_minor": 4
}
